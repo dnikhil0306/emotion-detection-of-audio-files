{
 "cells": [
  {
   "cell_type": "markdown",
   "metadata": {},
   "source": [
    "# Emotion Detection of Audio files\n",
    "#### Nikhil T D\n",
    "#### dnikhil0306@gmail.com\n",
    "##### -------------------------------------------------------------------"
   ]
  },
  {
   "cell_type": "markdown",
   "metadata": {},
   "source": [
    "## MFCC feature extraction for TESS and storing it in a dataframe"
   ]
  },
  {
   "cell_type": "code",
   "execution_count": 1,
   "metadata": {},
   "outputs": [],
   "source": [
    "import pandas as pd # import the necessary modules\n",
    "import numpy as np \n",
    "import os\n",
    "import librosa\n",
    "import librosa.feature\n",
    "\n",
    "def extract_feature(file_name, mfcc, chroma, mel): # function to extract the features\n",
    "    X, sample_rate = librosa.load(os.path.join(file_name), res_type='kaiser_fast') # load the audio file\n",
    "    if chroma: # if the chroma is true\n",
    "        stft=np.abs(librosa.stft(X)) # compute the STFT\n",
    "    result=np.array([]) # createAC an empty array\n",
    "    if mfcc: # if the mfcc is true\n",
    "        mfccs=np.mean(librosa.feature.mfcc(y=X, sr=sample_rate, n_mfcc=40).T, axis=0) # compute the MFCCs\n",
    "        result=np.hstack((result, mfccs)) # concatenate the MFCCs\n",
    "    if chroma: # if the chroma is true\n",
    "        chroma=np.mean(librosa.feature.chroma_stft(S=stft, sr=sample_rate).T,axis=0) # compute the chroma features\n",
    "        result=np.hstack((result, chroma)) # concatenate the chroma features\n",
    "    if mel: # if the mel is true\n",
    "        mel=np.mean(librosa.feature.melspectrogram(y=X, sr=sample_rate).T,axis=0) # compute the mel features\n",
    "        result=np.hstack((result, mel)) # concatenate the mel features\n",
    "    return result # return the result"
   ]
  },
  {
   "cell_type": "code",
   "execution_count": 2,
   "metadata": {},
   "outputs": [
    {
     "name": "stderr",
     "output_type": "stream",
     "text": [
      "C:\\Users\\Dell\\AppData\\Local\\Temp\\ipykernel_2152\\652539231.py:11: FutureWarning: The behavior of DataFrame concatenation with empty or all-NA entries is deprecated. In a future version, this will no longer exclude empty or all-NA columns when determining the result dtypes. To retain the old behavior, exclude the relevant entries before the concat operation.\n",
      "  df=pd.concat([df, df_temp]) # concatenate the dataframe\n"
     ]
    }
   ],
   "source": [
    "import os # import the necessary modules\n",
    "path='TESS Toronto emotional speech set data\\\\' # set the path\n",
    "df=pd.DataFrame(columns=[f'feature {i}' for i in range(0,180)]) # create a dataframe with the columns\n",
    "for file in os.listdir(path): # for each file in the path\n",
    "    for filename in os.listdir(path+file): # for each file in the path\n",
    "        f=path+file+\"\\\\\"+filename # set the file path\n",
    "        feature=extract_feature(f, True, True, True) # extract the features\n",
    "        feature=feature.reshape(1, -1) # reshape the feature \n",
    "        df_temp=pd.DataFrame(feature,columns=[f'feature {i}' for i in range(len(feature[0]))]) # create a dataframe with the features\n",
    "        df_temp['label'] = f.split('_')[-1].split('.')[0] # set the label\n",
    "        df=pd.concat([df, df_temp]) # concatenate the dataframe\n",
    "df.to_excel('data.xlsx', index=False) # save the dataframe to an excel file"
   ]
  },
  {
   "cell_type": "markdown",
   "metadata": {},
   "source": [
    "## Data visualizatiom"
   ]
  },
  {
   "cell_type": "code",
   "execution_count": 3,
   "metadata": {},
   "outputs": [
    {
     "name": "stdout",
     "output_type": "stream",
     "text": [
      "label\n",
      "angry      400\n",
      "disgust    400\n",
      "fear       400\n",
      "happy      400\n",
      "neutral    400\n",
      "ps         400\n",
      "sad        400\n",
      "Name: count, dtype: int64\n"
     ]
    }
   ],
   "source": [
    "print(df['label'].value_counts()) # print the label counts"
   ]
  },
  {
   "cell_type": "code",
   "execution_count": 4,
   "metadata": {},
   "outputs": [
    {
     "data": {
      "text/html": [
       "<div>\n",
       "<style scoped>\n",
       "    .dataframe tbody tr th:only-of-type {\n",
       "        vertical-align: middle;\n",
       "    }\n",
       "\n",
       "    .dataframe tbody tr th {\n",
       "        vertical-align: top;\n",
       "    }\n",
       "\n",
       "    .dataframe thead th {\n",
       "        text-align: right;\n",
       "    }\n",
       "</style>\n",
       "<table border=\"1\" class=\"dataframe\">\n",
       "  <thead>\n",
       "    <tr style=\"text-align: right;\">\n",
       "      <th></th>\n",
       "      <th>feature 0</th>\n",
       "      <th>feature 1</th>\n",
       "      <th>feature 2</th>\n",
       "      <th>feature 3</th>\n",
       "      <th>feature 4</th>\n",
       "      <th>feature 5</th>\n",
       "      <th>feature 6</th>\n",
       "      <th>feature 7</th>\n",
       "      <th>feature 8</th>\n",
       "      <th>feature 9</th>\n",
       "      <th>...</th>\n",
       "      <th>feature 170</th>\n",
       "      <th>feature 171</th>\n",
       "      <th>feature 172</th>\n",
       "      <th>feature 173</th>\n",
       "      <th>feature 174</th>\n",
       "      <th>feature 175</th>\n",
       "      <th>feature 176</th>\n",
       "      <th>feature 177</th>\n",
       "      <th>feature 178</th>\n",
       "      <th>feature 179</th>\n",
       "    </tr>\n",
       "  </thead>\n",
       "  <tbody>\n",
       "    <tr>\n",
       "      <th>count</th>\n",
       "      <td>2800.000000</td>\n",
       "      <td>2800.000000</td>\n",
       "      <td>2800.000000</td>\n",
       "      <td>2800.000000</td>\n",
       "      <td>2800.000000</td>\n",
       "      <td>2800.000000</td>\n",
       "      <td>2800.000000</td>\n",
       "      <td>2800.000000</td>\n",
       "      <td>2800.000000</td>\n",
       "      <td>2800.000000</td>\n",
       "      <td>...</td>\n",
       "      <td>2800.000000</td>\n",
       "      <td>2800.000000</td>\n",
       "      <td>2800.000000</td>\n",
       "      <td>2800.000000</td>\n",
       "      <td>2800.000000</td>\n",
       "      <td>2800.000000</td>\n",
       "      <td>2.800000e+03</td>\n",
       "      <td>2.800000e+03</td>\n",
       "      <td>2.800000e+03</td>\n",
       "      <td>2.800000e+03</td>\n",
       "    </tr>\n",
       "    <tr>\n",
       "      <th>mean</th>\n",
       "      <td>-411.525141</td>\n",
       "      <td>65.581409</td>\n",
       "      <td>0.178824</td>\n",
       "      <td>15.142113</td>\n",
       "      <td>-8.816716</td>\n",
       "      <td>6.643732</td>\n",
       "      <td>-13.813887</td>\n",
       "      <td>-3.221907</td>\n",
       "      <td>-14.989697</td>\n",
       "      <td>3.708326</td>\n",
       "      <td>...</td>\n",
       "      <td>0.004770</td>\n",
       "      <td>0.005607</td>\n",
       "      <td>0.006200</td>\n",
       "      <td>0.005291</td>\n",
       "      <td>0.002296</td>\n",
       "      <td>0.000606</td>\n",
       "      <td>1.985001e-04</td>\n",
       "      <td>4.612214e-05</td>\n",
       "      <td>5.667092e-06</td>\n",
       "      <td>2.417871e-07</td>\n",
       "    </tr>\n",
       "    <tr>\n",
       "      <th>std</th>\n",
       "      <td>67.109508</td>\n",
       "      <td>21.870460</td>\n",
       "      <td>15.949049</td>\n",
       "      <td>15.472712</td>\n",
       "      <td>11.839655</td>\n",
       "      <td>6.737116</td>\n",
       "      <td>6.382787</td>\n",
       "      <td>7.782298</td>\n",
       "      <td>6.706832</td>\n",
       "      <td>5.430482</td>\n",
       "      <td>...</td>\n",
       "      <td>0.007758</td>\n",
       "      <td>0.009691</td>\n",
       "      <td>0.011016</td>\n",
       "      <td>0.009381</td>\n",
       "      <td>0.003980</td>\n",
       "      <td>0.001044</td>\n",
       "      <td>3.698983e-04</td>\n",
       "      <td>8.930040e-05</td>\n",
       "      <td>1.072440e-05</td>\n",
       "      <td>4.563485e-07</td>\n",
       "    </tr>\n",
       "    <tr>\n",
       "      <th>min</th>\n",
       "      <td>-586.072998</td>\n",
       "      <td>2.567806</td>\n",
       "      <td>-41.981724</td>\n",
       "      <td>-32.606274</td>\n",
       "      <td>-51.040089</td>\n",
       "      <td>-13.458231</td>\n",
       "      <td>-34.075569</td>\n",
       "      <td>-26.900883</td>\n",
       "      <td>-33.119095</td>\n",
       "      <td>-15.104726</td>\n",
       "      <td>...</td>\n",
       "      <td>0.000024</td>\n",
       "      <td>0.000011</td>\n",
       "      <td>0.000007</td>\n",
       "      <td>0.000006</td>\n",
       "      <td>0.000002</td>\n",
       "      <td>0.000002</td>\n",
       "      <td>5.746987e-07</td>\n",
       "      <td>9.329904e-08</td>\n",
       "      <td>5.738560e-09</td>\n",
       "      <td>1.653612e-10</td>\n",
       "    </tr>\n",
       "    <tr>\n",
       "      <th>25%</th>\n",
       "      <td>-451.942329</td>\n",
       "      <td>48.628240</td>\n",
       "      <td>-12.840190</td>\n",
       "      <td>2.908990</td>\n",
       "      <td>-16.379322</td>\n",
       "      <td>1.857030</td>\n",
       "      <td>-17.926962</td>\n",
       "      <td>-9.005314</td>\n",
       "      <td>-20.098296</td>\n",
       "      <td>-0.008007</td>\n",
       "      <td>...</td>\n",
       "      <td>0.000420</td>\n",
       "      <td>0.000409</td>\n",
       "      <td>0.000339</td>\n",
       "      <td>0.000239</td>\n",
       "      <td>0.000121</td>\n",
       "      <td>0.000048</td>\n",
       "      <td>1.305714e-05</td>\n",
       "      <td>2.012815e-06</td>\n",
       "      <td>1.528520e-07</td>\n",
       "      <td>4.733771e-09</td>\n",
       "    </tr>\n",
       "    <tr>\n",
       "      <th>50%</th>\n",
       "      <td>-412.197159</td>\n",
       "      <td>68.049370</td>\n",
       "      <td>-0.321068</td>\n",
       "      <td>15.065360</td>\n",
       "      <td>-8.383507</td>\n",
       "      <td>6.394339</td>\n",
       "      <td>-13.489487</td>\n",
       "      <td>-3.492598</td>\n",
       "      <td>-15.872509</td>\n",
       "      <td>3.580363</td>\n",
       "      <td>...</td>\n",
       "      <td>0.001601</td>\n",
       "      <td>0.001575</td>\n",
       "      <td>0.001504</td>\n",
       "      <td>0.001105</td>\n",
       "      <td>0.000484</td>\n",
       "      <td>0.000160</td>\n",
       "      <td>4.752819e-05</td>\n",
       "      <td>8.534173e-06</td>\n",
       "      <td>7.340841e-07</td>\n",
       "      <td>2.453658e-08</td>\n",
       "    </tr>\n",
       "    <tr>\n",
       "      <th>75%</th>\n",
       "      <td>-363.086548</td>\n",
       "      <td>82.365107</td>\n",
       "      <td>13.182945</td>\n",
       "      <td>26.068197</td>\n",
       "      <td>-1.164526</td>\n",
       "      <td>11.543325</td>\n",
       "      <td>-9.264538</td>\n",
       "      <td>3.188000</td>\n",
       "      <td>-10.125093</td>\n",
       "      <td>7.570410</td>\n",
       "      <td>...</td>\n",
       "      <td>0.005918</td>\n",
       "      <td>0.006715</td>\n",
       "      <td>0.007228</td>\n",
       "      <td>0.006215</td>\n",
       "      <td>0.003008</td>\n",
       "      <td>0.000729</td>\n",
       "      <td>2.177851e-04</td>\n",
       "      <td>4.886522e-05</td>\n",
       "      <td>5.955800e-06</td>\n",
       "      <td>2.695836e-07</td>\n",
       "    </tr>\n",
       "    <tr>\n",
       "      <th>max</th>\n",
       "      <td>-239.003082</td>\n",
       "      <td>124.084091</td>\n",
       "      <td>40.910011</td>\n",
       "      <td>57.381794</td>\n",
       "      <td>21.440029</td>\n",
       "      <td>26.130383</td>\n",
       "      <td>6.696121</td>\n",
       "      <td>14.372293</td>\n",
       "      <td>5.638602</td>\n",
       "      <td>20.052330</td>\n",
       "      <td>...</td>\n",
       "      <td>0.088348</td>\n",
       "      <td>0.132285</td>\n",
       "      <td>0.126417</td>\n",
       "      <td>0.111328</td>\n",
       "      <td>0.046148</td>\n",
       "      <td>0.011966</td>\n",
       "      <td>3.921513e-03</td>\n",
       "      <td>8.855814e-04</td>\n",
       "      <td>1.025326e-04</td>\n",
       "      <td>5.574802e-06</td>\n",
       "    </tr>\n",
       "  </tbody>\n",
       "</table>\n",
       "<p>8 rows × 180 columns</p>\n",
       "</div>"
      ],
      "text/plain": [
       "         feature 0    feature 1    feature 2    feature 3    feature 4  \\\n",
       "count  2800.000000  2800.000000  2800.000000  2800.000000  2800.000000   \n",
       "mean   -411.525141    65.581409     0.178824    15.142113    -8.816716   \n",
       "std      67.109508    21.870460    15.949049    15.472712    11.839655   \n",
       "min    -586.072998     2.567806   -41.981724   -32.606274   -51.040089   \n",
       "25%    -451.942329    48.628240   -12.840190     2.908990   -16.379322   \n",
       "50%    -412.197159    68.049370    -0.321068    15.065360    -8.383507   \n",
       "75%    -363.086548    82.365107    13.182945    26.068197    -1.164526   \n",
       "max    -239.003082   124.084091    40.910011    57.381794    21.440029   \n",
       "\n",
       "         feature 5    feature 6    feature 7    feature 8    feature 9  ...  \\\n",
       "count  2800.000000  2800.000000  2800.000000  2800.000000  2800.000000  ...   \n",
       "mean      6.643732   -13.813887    -3.221907   -14.989697     3.708326  ...   \n",
       "std       6.737116     6.382787     7.782298     6.706832     5.430482  ...   \n",
       "min     -13.458231   -34.075569   -26.900883   -33.119095   -15.104726  ...   \n",
       "25%       1.857030   -17.926962    -9.005314   -20.098296    -0.008007  ...   \n",
       "50%       6.394339   -13.489487    -3.492598   -15.872509     3.580363  ...   \n",
       "75%      11.543325    -9.264538     3.188000   -10.125093     7.570410  ...   \n",
       "max      26.130383     6.696121    14.372293     5.638602    20.052330  ...   \n",
       "\n",
       "       feature 170  feature 171  feature 172  feature 173  feature 174  \\\n",
       "count  2800.000000  2800.000000  2800.000000  2800.000000  2800.000000   \n",
       "mean      0.004770     0.005607     0.006200     0.005291     0.002296   \n",
       "std       0.007758     0.009691     0.011016     0.009381     0.003980   \n",
       "min       0.000024     0.000011     0.000007     0.000006     0.000002   \n",
       "25%       0.000420     0.000409     0.000339     0.000239     0.000121   \n",
       "50%       0.001601     0.001575     0.001504     0.001105     0.000484   \n",
       "75%       0.005918     0.006715     0.007228     0.006215     0.003008   \n",
       "max       0.088348     0.132285     0.126417     0.111328     0.046148   \n",
       "\n",
       "       feature 175   feature 176   feature 177   feature 178   feature 179  \n",
       "count  2800.000000  2.800000e+03  2.800000e+03  2.800000e+03  2.800000e+03  \n",
       "mean      0.000606  1.985001e-04  4.612214e-05  5.667092e-06  2.417871e-07  \n",
       "std       0.001044  3.698983e-04  8.930040e-05  1.072440e-05  4.563485e-07  \n",
       "min       0.000002  5.746987e-07  9.329904e-08  5.738560e-09  1.653612e-10  \n",
       "25%       0.000048  1.305714e-05  2.012815e-06  1.528520e-07  4.733771e-09  \n",
       "50%       0.000160  4.752819e-05  8.534173e-06  7.340841e-07  2.453658e-08  \n",
       "75%       0.000729  2.177851e-04  4.886522e-05  5.955800e-06  2.695836e-07  \n",
       "max       0.011966  3.921513e-03  8.855814e-04  1.025326e-04  5.574802e-06  \n",
       "\n",
       "[8 rows x 180 columns]"
      ]
     },
     "execution_count": 4,
     "metadata": {},
     "output_type": "execute_result"
    }
   ],
   "source": [
    "df.describe() # print the description of the dataframe"
   ]
  },
  {
   "cell_type": "markdown",
   "metadata": {},
   "source": [
    "## Splitting the data into training and testing sets"
   ]
  },
  {
   "cell_type": "code",
   "execution_count": 5,
   "metadata": {},
   "outputs": [],
   "source": [
    "from sklearn.model_selection import train_test_split\n",
    "train_x, test_x, train_y, test_y = train_test_split(df.drop('label', axis=1), df['label'], test_size=0.1, random_state=42)"
   ]
  },
  {
   "cell_type": "markdown",
   "metadata": {},
   "source": [
    "## Random Forest Classification"
   ]
  },
  {
   "cell_type": "code",
   "execution_count": 6,
   "metadata": {},
   "outputs": [
    {
     "name": "stdout",
     "output_type": "stream",
     "text": [
      "              precision    recall  f1-score   support\n",
      "\n",
      "       angry       1.00      1.00      1.00        42\n",
      "     disgust       1.00      1.00      1.00        30\n",
      "        fear       1.00      1.00      1.00        38\n",
      "       happy       1.00      0.97      0.99        39\n",
      "     neutral       1.00      1.00      1.00        41\n",
      "          ps       0.98      1.00      0.99        44\n",
      "         sad       1.00      1.00      1.00        46\n",
      "\n",
      "    accuracy                           1.00       280\n",
      "   macro avg       1.00      1.00      1.00       280\n",
      "weighted avg       1.00      1.00      1.00       280\n",
      "\n",
      "0.9964285714285714\n"
     ]
    },
    {
     "data": {
      "text/plain": [
       "['model_filename.pkl']"
      ]
     },
     "execution_count": 6,
     "metadata": {},
     "output_type": "execute_result"
    }
   ],
   "source": [
    "from sklearn.metrics import classification_report\n",
    "from sklearn.metrics import accuracy_score\n",
    "from sklearn.ensemble import RandomForestClassifier\n",
    "RFmodel = RandomForestClassifier(n_estimators=100, random_state=42)\n",
    "RFmodel.fit(train_x, train_y)\n",
    "pred = RFmodel.predict(test_x)\n",
    "print(classification_report(test_y, pred))\n",
    "RFaccuracy = accuracy_score(test_y, pred)\n",
    "print(RFaccuracy)\n",
    "import joblib\n",
    "# Save the trained model\n",
    "joblib.dump(RFmodel, 'model_filename.pkl')\n"
   ]
  },
  {
   "cell_type": "markdown",
   "metadata": {},
   "source": [
    "## Decision Tree Classification"
   ]
  },
  {
   "cell_type": "code",
   "execution_count": 7,
   "metadata": {},
   "outputs": [
    {
     "name": "stdout",
     "output_type": "stream",
     "text": [
      "              precision    recall  f1-score   support\n",
      "\n",
      "       angry       0.97      0.76      0.85        42\n",
      "     disgust       0.90      0.90      0.90        30\n",
      "        fear       0.97      0.95      0.96        38\n",
      "       happy       0.86      0.95      0.90        39\n",
      "     neutral       0.98      0.98      0.98        41\n",
      "          ps       0.80      0.91      0.85        44\n",
      "         sad       0.93      0.93      0.93        46\n",
      "\n",
      "    accuracy                           0.91       280\n",
      "   macro avg       0.92      0.91      0.91       280\n",
      "weighted avg       0.92      0.91      0.91       280\n",
      "\n"
     ]
    }
   ],
   "source": [
    "#import decision tree\n",
    "from sklearn.tree import DecisionTreeClassifier\n",
    "DTmodel = DecisionTreeClassifier(random_state=42)\n",
    "DTmodel.fit(train_x, train_y)\n",
    "pred = DTmodel.predict(test_x)\n",
    "print(classification_report(test_y, pred))\n",
    "DFaccuracy = accuracy_score(test_y, pred)"
   ]
  },
  {
   "cell_type": "markdown",
   "metadata": {},
   "source": [
    "## Naive bayes"
   ]
  },
  {
   "cell_type": "code",
   "execution_count": 8,
   "metadata": {},
   "outputs": [
    {
     "name": "stdout",
     "output_type": "stream",
     "text": [
      "              precision    recall  f1-score   support\n",
      "\n",
      "       angry       1.00      0.95      0.98        42\n",
      "     disgust       0.41      0.83      0.55        30\n",
      "        fear       0.97      0.92      0.95        38\n",
      "       happy       1.00      0.51      0.68        39\n",
      "     neutral       1.00      0.98      0.99        41\n",
      "          ps       0.75      0.41      0.53        44\n",
      "         sad       0.78      1.00      0.88        46\n",
      "\n",
      "    accuracy                           0.80       280\n",
      "   macro avg       0.84      0.80      0.79       280\n",
      "weighted avg       0.86      0.80      0.80       280\n",
      "\n"
     ]
    }
   ],
   "source": [
    "#import naive bayes\n",
    "from sklearn.naive_bayes import GaussianNB\n",
    "NBmodel = GaussianNB()\n",
    "NBmodel.fit(train_x, train_y)\n",
    "pred = NBmodel.predict(test_x)\n",
    "print(classification_report(test_y, pred))\n",
    "NBaccuracy = accuracy_score(test_y, pred)"
   ]
  },
  {
   "cell_type": "markdown",
   "metadata": {},
   "source": [
    "## Multilayer Perceptron"
   ]
  },
  {
   "cell_type": "code",
   "execution_count": 9,
   "metadata": {},
   "outputs": [
    {
     "name": "stdout",
     "output_type": "stream",
     "text": [
      "              precision    recall  f1-score   support\n",
      "\n",
      "       angry       1.00      1.00      1.00        42\n",
      "     disgust       1.00      1.00      1.00        30\n",
      "        fear       1.00      1.00      1.00        38\n",
      "       happy       1.00      0.97      0.99        39\n",
      "     neutral       1.00      1.00      1.00        41\n",
      "          ps       0.98      1.00      0.99        44\n",
      "         sad       1.00      1.00      1.00        46\n",
      "\n",
      "    accuracy                           1.00       280\n",
      "   macro avg       1.00      1.00      1.00       280\n",
      "weighted avg       1.00      1.00      1.00       280\n",
      "\n"
     ]
    }
   ],
   "source": [
    "from sklearn.neural_network import MLPClassifier\n",
    "model=MLPClassifier(alpha=0.01, batch_size=256, epsilon=1e-08, hidden_layer_sizes=(300,), learning_rate='adaptive', max_iter=500)\n",
    "model.fit(train_x, train_y)\n",
    "pred=model.predict(test_x)\n",
    "print(classification_report(test_y, pred))\n",
    "MLPaccuracy=accuracy_score(test_y, pred)"
   ]
  },
  {
   "cell_type": "markdown",
   "metadata": {},
   "source": [
    "## Accuracy analysis"
   ]
  },
  {
   "cell_type": "code",
   "execution_count": 10,
   "metadata": {},
   "outputs": [
    {
     "name": "stdout",
     "output_type": "stream",
     "text": [
      "Predicted Label: ['disgust']\n"
     ]
    },
    {
     "name": "stderr",
     "output_type": "stream",
     "text": [
      "<>:7: SyntaxWarning: invalid escape sequence '\\W'\n",
      "<>:7: SyntaxWarning: invalid escape sequence '\\W'\n",
      "C:\\Users\\Dell\\AppData\\Local\\Temp\\ipykernel_2152\\710251489.py:7: SyntaxWarning: invalid escape sequence '\\W'\n",
      "  trained_model = joblib.load('D:\\Workspace\\ED\\Emotion_Detection_ML\\model_filename.pkl')  # Replace 'path_to_your_trained_model.pkl' with the actual file path\n",
      "C:\\Users\\Dell\\AppData\\Local\\Packages\\PythonSoftwareFoundation.Python.3.12_qbz5n2kfra8p0\\LocalCache\\local-packages\\Python312\\site-packages\\sklearn\\base.py:493: UserWarning: X does not have valid feature names, but RandomForestClassifier was fitted with feature names\n",
      "  warnings.warn(\n"
     ]
    }
   ],
   "source": [
    "# Step 1: Feature Extraction\n",
    "file_path = r\"D:\\Workspace\\ED\\Emotion_Detection_ML\\TESS Toronto emotional speech set data\\OAF_disgust\\OAF_back_disgust.wav\"  # Replace with the actual file path\n",
    "mfcc_features = extract_feature(file_path, mfcc=True, chroma=True, mel=True)\n",
    "\n",
    "\n",
    "# Step 3: Load the Trained Model\n",
    "trained_model = joblib.load('D:\\Workspace\\ED\\Emotion_Detection_ML\\model_filename.pkl')  # Replace 'path_to_your_trained_model.pkl' with the actual file path\n",
    "\n",
    "# Step 4: Model Prediction\n",
    "predicted_label = trained_model.predict(mfcc_features.reshape(1, -1))\n",
    "\n",
    "print(\"Predicted Label:\", predicted_label)"
   ]
  },
  {
   "cell_type": "code",
   "execution_count": 11,
   "metadata": {},
   "outputs": [
    {
     "name": "stdout",
     "output_type": "stream",
     "text": [
      "Accuracy values saved to accuracy.json\n",
      "Random Forest Accuracy: 99.643%\n",
      "Decision Tree Accuracy: 91.071%\n",
      "Naive Bayes Accuracy: 80.0%\n",
      "MLP Accuracy: 99.643%\n"
     ]
    }
   ],
   "source": [
    "# Create a dictionary to store the accuracy values\n",
    "import json\n",
    "\n",
    "accuracies = {\n",
    "    'random_forest': round(RFaccuracy * 100, 3),\n",
    "    'decision_tree': round(DFaccuracy * 100, 3),\n",
    "    'naive_bayes': round(NBaccuracy * 100, 3),\n",
    "    'mlp': round(MLPaccuracy * 100, 3)\n",
    "}\n",
    "\n",
    "with open('accuracy.json', 'w') as f:\n",
    "    json.dump(accuracies, f)\n",
    "\n",
    "\n",
    "print(\"Accuracy values saved to accuracy.json\")\n",
    "\n",
    "\n",
    "print(f\"Random Forest Accuracy: {round(RFaccuracy*100,3)}%\")\n",
    "print(f\"Decision Tree Accuracy: {round(DFaccuracy*100,3)}%\")\n",
    "print(f\"Naive Bayes Accuracy: {round(NBaccuracy*100,3)}%\")\n",
    "print(f\"MLP Accuracy: {round(MLPaccuracy*100,3)}%\")\n"
   ]
  }
 ],
 "metadata": {
  "kernelspec": {
   "display_name": "Python 3.8.12 ('base')",
   "language": "python",
   "name": "python3"
  },
  "language_info": {
   "codemirror_mode": {
    "name": "ipython",
    "version": 3
   },
   "file_extension": ".py",
   "mimetype": "text/x-python",
   "name": "python",
   "nbconvert_exporter": "python",
   "pygments_lexer": "ipython3",
   "version": "3.12.3"
  },
  "orig_nbformat": 4,
  "vscode": {
   "interpreter": {
    "hash": "f809bf94e29cee2d7935c4f29b9a3ae08e0707af3b5b65c6833e6a437508cc17"
   }
  }
 },
 "nbformat": 4,
 "nbformat_minor": 2
}
